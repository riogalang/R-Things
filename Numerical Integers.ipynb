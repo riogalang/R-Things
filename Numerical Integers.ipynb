{
 "cells": [
  {
   "cell_type": "code",
   "execution_count": 17,
   "metadata": {},
   "outputs": [
    {
     "data": {
      "text/html": [
       "0.75"
      ],
      "text/latex": [
       "0.75"
      ],
      "text/markdown": [
       "0.75"
      ],
      "text/plain": [
       "[1] 0.75"
      ]
     },
     "metadata": {},
     "output_type": "display_data"
    }
   ],
   "source": [
    "#NO1\n",
    "\n",
    "trapezoid <- function(f, a, b) {\n",
    "  if (is.function(f) == FALSE) {\n",
    "    stop('f must be a function with one parameter (variable)')\n",
    "  }\n",
    "  \n",
    "  h <- b - a\n",
    "  \n",
    "  fxdx <- (h / 2) * (f(a) + f(b))\n",
    "  \n",
    "  return(fxdx)\n",
    "}\n",
    "\n",
    "f <- function(x){\n",
    "    result <- 1/(1+x)\n",
    "    return(result)\n",
    "}\n",
    "\n",
    "trapezoid(f,0,1)"
   ]
  },
  {
   "cell_type": "code",
   "execution_count": 18,
   "metadata": {},
   "outputs": [
    {
     "data": {
      "text/html": [
       "1.08333333333333"
      ],
      "text/latex": [
       "1.08333333333333"
      ],
      "text/markdown": [
       "1.08333333333333"
      ],
      "text/plain": [
       "[1] 1.083333"
      ]
     },
     "metadata": {},
     "output_type": "display_data"
    }
   ],
   "source": [
    "simpsons.rule <- function(f, a, b) {\n",
    "  if (is.function(f) == FALSE) {\n",
    "    stop('f must be a function with one parameter (variable)')\n",
    "  }\n",
    "   \n",
    "  h <- (b - a) / 2\n",
    "  x0 <- a\n",
    "  x1 <- a + h\n",
    "  x2 <- b\n",
    "   \n",
    "  s <- (h / 3) * (f(x0) + 4 * f(x1) + f(x2))\n",
    "   \n",
    "  return(s)\n",
    "}\n",
    "f<-function(x){\n",
    "    result<-x^2+x^3+x\n",
    "    return(result)\n",
    "}\n",
    " \n",
    "simpsons.rule(f, 0, 1)"
   ]
  }
 ],
 "metadata": {
  "kernelspec": {
   "display_name": "R",
   "language": "R",
   "name": "ir"
  },
  "language_info": {
   "codemirror_mode": "r",
   "file_extension": ".r",
   "mimetype": "text/x-r-source",
   "name": "R",
   "pygments_lexer": "r",
   "version": "3.5.1"
  }
 },
 "nbformat": 4,
 "nbformat_minor": 2
}
